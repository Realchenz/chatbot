{
 "cells": [
  {
   "cell_type": "code",
   "execution_count": null,
   "metadata": {},
   "outputs": [
    {
     "ename": "",
     "evalue": "",
     "output_type": "error",
     "traceback": [
      "\u001b[1;31mRunning cells with 'venv (Python 3.9.6)' requires the ipykernel package.\n",
      "\u001b[1;31mRun the following command to install 'ipykernel' into the Python environment. \n",
      "\u001b[1;31mCommand: '/Users/chenzhenxu/CodeProjects/CS217-final-project/venv/bin/python -m pip install ipykernel -U --force-reinstall'"
     ]
    }
   ],
   "source": [
    "import re\n",
    "import unicodedata\n",
    "\n",
    "def process_documents(documents):\n",
    "    '''\n",
    "    @param documents: List of documents.\n",
    "    @return: a long sting. Concatenated text from document.\n",
    "    '''\n",
    "    doc_text = ''\n",
    "    for doc in documents:\n",
    "\n",
    "        text = doc.page_content\n",
    "        # Remove unknown characters\n",
    "        text = ''.join(c for c in text if unicodedata.category(c) != 'Co')\n",
    "        # Remove extra whitespace\n",
    "        text = re.sub(r'\\s+', ' ', text).strip()\n",
    "        # Remove non-alphanumeric characters\n",
    "        text = re.sub(r'[^a-zA-Z0-9\\s,.]', '', text)\n",
    "        # Convert to lowercase\n",
    "        text = text.lower()\n",
    "        doc_text += text\n",
    "\n",
    "    return doc_text"
   ]
  },
  {
   "cell_type": "code",
   "execution_count": null,
   "metadata": {},
   "outputs": [
    {
     "ename": "",
     "evalue": "",
     "output_type": "error",
     "traceback": [
      "\u001b[1;31mRunning cells with 'venv (Python 3.9.6)' requires the ipykernel package.\n",
      "\u001b[1;31mRun the following command to install 'ipykernel' into the Python environment. \n",
      "\u001b[1;31mCommand: '/Users/chenzhenxu/CodeProjects/CS217-final-project/venv/bin/python -m pip install ipykernel -U --force-reinstall'"
     ]
    }
   ],
   "source": [
    "from langchain.document_loaders import PyPDFLoader\n",
    "# Reading pdfs\n",
    "def read_pdf(file_path):\n",
    "    loader = PyPDFLoader(file_path)\n",
    "    documents = loader.load_and_split()\n",
    "    return documents"
   ]
  },
  {
   "cell_type": "code",
   "execution_count": null,
   "metadata": {},
   "outputs": [
    {
     "ename": "",
     "evalue": "",
     "output_type": "error",
     "traceback": [
      "\u001b[1;31mRunning cells with 'venv (Python 3.9.6)' requires the ipykernel package.\n",
      "\u001b[1;31mRun the following command to install 'ipykernel' into the Python environment. \n",
      "\u001b[1;31mCommand: '/Users/chenzhenxu/CodeProjects/CS217-final-project/venv/bin/python -m pip install ipykernel -U --force-reinstall'"
     ]
    }
   ],
   "source": [
    "#\n",
    "documents = read_pdf('release engineering.pdf')\n",
    "processed_text = process_documents(documents)\n",
    "#\n",
    "print(len(documents))\n",
    "print(processed_text)"
   ]
  },
  {
   "cell_type": "markdown",
   "metadata": {},
   "source": [
    "### Perform Native Chunking(RecursiveCharacterTextSplitting)"
   ]
  },
  {
   "cell_type": "code",
   "execution_count": null,
   "metadata": {},
   "outputs": [
    {
     "ename": "",
     "evalue": "",
     "output_type": "error",
     "traceback": [
      "\u001b[1;31mRunning cells with 'venv (Python 3.9.6)' requires the ipykernel package.\n",
      "\u001b[1;31mRun the following command to install 'ipykernel' into the Python environment. \n",
      "\u001b[1;31mCommand: '/Users/chenzhenxu/CodeProjects/CS217-final-project/venv/bin/python -m pip install ipykernel -U --force-reinstall'"
     ]
    }
   ],
   "source": [
    "from langchain.text_splitter import RecursiveCharacterTextSplitter\n",
    "def recursive_character_text_splitter(text):\n",
    "    '''\n",
    "    @param text: a long string\n",
    "    @return: a list of strings. Each string is a chunk of the text.\n",
    "    '''\n",
    "\n",
    "    chunk_size = 500\n",
    "\n",
    "    if len(text) > 2000:\n",
    "        chunk_size = 800\n",
    "\n",
    "    text_splitter = RecursiveCharacterTextSplitter(\n",
    "        chunk_size=chunk_size, # split into chunks of 100 characters\n",
    "        chunk_overlap=20, # overlap by 20 characters\n",
    "        length_function=len, \n",
    "        separators=[\"\\n\\n\", \"\\n\",\"(?<=\\. )\", \" \", \"\"], # split by new line, space, and period\n",
    "        is_separator_regex=True, # use regex for separators\n",
    "    )\n",
    "    texts = text_splitter.split_text(text)\n",
    "    return texts"
   ]
  },
  {
   "cell_type": "code",
   "execution_count": null,
   "metadata": {},
   "outputs": [
    {
     "ename": "",
     "evalue": "",
     "output_type": "error",
     "traceback": [
      "\u001b[1;31mRunning cells with 'venv (Python 3.9.6)' requires the ipykernel package.\n",
      "\u001b[1;31mRun the following command to install 'ipykernel' into the Python environment. \n",
      "\u001b[1;31mCommand: '/Users/chenzhenxu/CodeProjects/CS217-final-project/venv/bin/python -m pip install ipykernel -U --force-reinstall'"
     ]
    }
   ],
   "source": [
    "naive_chunks = recursive_character_text_splitter(processed_text)\n",
    "for chunk in naive_chunks[:15]:\n",
    "  print(chunk+ \"\\n\")"
   ]
  },
  {
   "cell_type": "markdown",
   "metadata": {},
   "source": [
    "### Instantiate Embedding Model"
   ]
  },
  {
   "cell_type": "code",
   "execution_count": null,
   "metadata": {},
   "outputs": [
    {
     "ename": "",
     "evalue": "",
     "output_type": "error",
     "traceback": [
      "\u001b[1;31mRunning cells with 'venv (Python 3.9.6)' requires the ipykernel package.\n",
      "\u001b[1;31mRun the following command to install 'ipykernel' into the Python environment. \n",
      "\u001b[1;31mCommand: '/Users/chenzhenxu/CodeProjects/CS217-final-project/venv/bin/python -m pip install ipykernel -U --force-reinstall'"
     ]
    }
   ],
   "source": [
    "import cohere\n",
    "def embed(docs):\n",
    "    \n",
    "    co = cohere.Client(api_key=\"fAZMudlG7f2M0CtUYWrQikcrxzzRoPze5UbW81nA\")\n",
    "    embeds = co.embed(texts=docs, model='embed-english-v3.0',input_type='search_document').embeddings\n",
    "\n",
    "    # model = SentenceTransformer('sentence-transformers/all-MiniLM-L6-v2')\n",
    "    # embeds = model.encode(docs)\n",
    "\n",
    "    # model = SentenceTransformer(\"Snowflake/snowflake-arctic-embed-m\", trust_remote_code=True)\n",
    "    # embeds = model.encode(docs)\n",
    "    return embeds"
   ]
  },
  {
   "cell_type": "code",
   "execution_count": null,
   "metadata": {},
   "outputs": [
    {
     "ename": "",
     "evalue": "",
     "output_type": "error",
     "traceback": [
      "\u001b[1;31mRunning cells with 'venv (Python 3.9.6)' requires the ipykernel package.\n",
      "\u001b[1;31mRun the following command to install 'ipykernel' into the Python environment. \n",
      "\u001b[1;31mCommand: '/Users/chenzhenxu/CodeProjects/CS217-final-project/venv/bin/python -m pip install ipykernel -U --force-reinstall'"
     ]
    }
   ],
   "source": [
    "import numpy as np\n",
    "def upSertEmbeds(processed_text, index):\n",
    "    '''\n",
    "    @param processed_text: [[text1], [text2], ...]\n",
    "    @param index: Pinecone index\n",
    "    '''\n",
    "    embeds = embed(processed_text)\n",
    "    shape = np.array(embeds).shape\n",
    "    vectors = []\n",
    "\n",
    "    for i in range(shape[0]):\n",
    "        vector = {'id': str(i),\n",
    "                  'values': embeds[i],\n",
    "                  'metadata': {'text': processed_text[i]}\n",
    "                 }\n",
    "        vectors.append(vector)\n",
    "\n",
    "    index.upsert(vectors)"
   ]
  },
  {
   "cell_type": "code",
   "execution_count": null,
   "metadata": {},
   "outputs": [
    {
     "ename": "",
     "evalue": "",
     "output_type": "error",
     "traceback": [
      "\u001b[1;31mRunning cells with 'venv (Python 3.9.6)' requires the ipykernel package.\n",
      "\u001b[1;31mRun the following command to install 'ipykernel' into the Python environment. \n",
      "\u001b[1;31mCommand: '/Users/chenzhenxu/CodeProjects/CS217-final-project/venv/bin/python -m pip install ipykernel -U --force-reinstall'"
     ]
    }
   ],
   "source": [
    "#\n",
    "from pinecone import Pinecone as PineconeClient\n",
    "\n",
    "pc = PineconeClient(api_key=\"1bba0667-e178-4139-a1a6-34f805bae975\")\n",
    "naive_index = pc.Index(name=\"test2\") # you have to change the index when you run the code again\n",
    "upSertEmbeds(naive_chunks, naive_index)"
   ]
  },
  {
   "cell_type": "markdown",
   "metadata": {},
   "source": [
    "### Setup the API Key for LLM"
   ]
  },
  {
   "cell_type": "code",
   "execution_count": null,
   "metadata": {},
   "outputs": [
    {
     "ename": "",
     "evalue": "",
     "output_type": "error",
     "traceback": [
      "\u001b[1;31mRunning cells with 'venv (Python 3.9.6)' requires the ipykernel package.\n",
      "\u001b[1;31mRun the following command to install 'ipykernel' into the Python environment. \n",
      "\u001b[1;31mCommand: '/Users/chenzhenxu/CodeProjects/CS217-final-project/venv/bin/python -m pip install ipykernel -U --force-reinstall'"
     ]
    }
   ],
   "source": [
    "from langchain_cohere import ChatCohere\n",
    "client = ChatCohere(\n",
    "                cohere_api_key=\"fAZMudlG7f2M0CtUYWrQikcrxzzRoPze5UbW81nA\"\n",
    "            )"
   ]
  },
  {
   "cell_type": "markdown",
   "metadata": {},
   "source": [
    "### Perform Semantic Chunking"
   ]
  },
  {
   "cell_type": "code",
   "execution_count": null,
   "metadata": {},
   "outputs": [
    {
     "ename": "",
     "evalue": "",
     "output_type": "error",
     "traceback": [
      "\u001b[1;31mRunning cells with 'venv (Python 3.9.6)' requires the ipykernel package.\n",
      "\u001b[1;31mRun the following command to install 'ipykernel' into the Python environment. \n",
      "\u001b[1;31mCommand: '/Users/chenzhenxu/CodeProjects/CS217-final-project/venv/bin/python -m pip install ipykernel -U --force-reinstall'"
     ]
    }
   ],
   "source": [
    "from langchain.text_splitter import SpacyTextSplitter\n",
    "\n",
    "def spacy_text_splitter(text):\n",
    "    '''\n",
    "    @param text: a long string\n",
    "    @return: a list of strings. Each string is a chunk of the text.\n",
    "    '''\n",
    "\n",
    "    chunk_size = 500\n",
    "\n",
    "    if len(text) > 2000:\n",
    "        chunk_size = 800\n",
    "\n",
    "    text_splitter = SpacyTextSplitter(\n",
    "        pipeline=\"en_core_web_sm\",\n",
    "        chunk_size=chunk_size,\n",
    "        chunk_overlap=0,\n",
    "    )\n",
    "    texts = text_splitter.split_text(text)\n",
    "    return texts"
   ]
  },
  {
   "cell_type": "code",
   "execution_count": null,
   "metadata": {},
   "outputs": [
    {
     "ename": "",
     "evalue": "",
     "output_type": "error",
     "traceback": [
      "\u001b[1;31mRunning cells with 'venv (Python 3.9.6)' requires the ipykernel package.\n",
      "\u001b[1;31mRun the following command to install 'ipykernel' into the Python environment. \n",
      "\u001b[1;31mCommand: '/Users/chenzhenxu/CodeProjects/CS217-final-project/venv/bin/python -m pip install ipykernel -U --force-reinstall'"
     ]
    }
   ],
   "source": [
    "advanced_chunks = spacy_text_splitter(processed_text)\n",
    "for chunk in advanced_chunks[:15]:\n",
    "  print(chunk+ \"\\n\")"
   ]
  },
  {
   "cell_type": "code",
   "execution_count": null,
   "metadata": {},
   "outputs": [
    {
     "ename": "",
     "evalue": "",
     "output_type": "error",
     "traceback": [
      "\u001b[1;31mRunning cells with 'venv (Python 3.9.6)' requires the ipykernel package.\n",
      "\u001b[1;31mRun the following command to install 'ipykernel' into the Python environment. \n",
      "\u001b[1;31mCommand: '/Users/chenzhenxu/CodeProjects/CS217-final-project/venv/bin/python -m pip install ipykernel -U --force-reinstall'"
     ]
    }
   ],
   "source": [
    "advanced_index = pc.Index(name=\"test3\") # you have to change the index when you run the code again\n",
    "upSertEmbeds(advanced_chunks, advanced_index)"
   ]
  },
  {
   "cell_type": "code",
   "execution_count": null,
   "metadata": {},
   "outputs": [
    {
     "ename": "",
     "evalue": "",
     "output_type": "error",
     "traceback": [
      "\u001b[1;31mRunning cells with 'venv (Python 3.9.6)' requires the ipykernel package.\n",
      "\u001b[1;31mRun the following command to install 'ipykernel' into the Python environment. \n",
      "\u001b[1;31mCommand: '/Users/chenzhenxu/CodeProjects/CS217-final-project/venv/bin/python -m pip install ipykernel -U --force-reinstall'"
     ]
    }
   ],
   "source": [
    "from langchain_core.prompts import ChatPromptTemplate\n",
    "from langchain_core.runnables import RunnableParallel, RunnablePassthrough\n",
    "from langchain_core.output_parsers import StrOutputParser\n",
    "\n",
    "def get_response(query, model, top_k_val, index):\n",
    "    '''\n",
    "    @param query: a string. The question to ask the model.\n",
    "    @param model: a string. The model to use for the response.\n",
    "    @param recall: an int. The number of documents to retrieve.\n",
    "    @return: a string. The response from the model.\n",
    "    '''\n",
    "    query_vector = embed([query])\n",
    "    pc = PineconeClient(api_key=\"1bba0667-e178-4139-a1a6-34f805bae975\")\n",
    "\n",
    "    top_k_chunks = index.query(\n",
    "                        vector = query_vector,\n",
    "                        top_k = top_k_val,\n",
    "                        include_values = False,\n",
    "                        include_metadata = True\n",
    "                    )\n",
    "    \n",
    "    retrieved_chunks = [match['metadata'].get('text', 'Default text') for match in top_k_chunks['matches']]\n",
    "\n",
    "    context = ''\n",
    "\n",
    "    for chunk in retrieved_chunks:\n",
    "        context += chunk + ' '\n",
    "\n",
    "    # RAG prompt\n",
    "    template =  \"\"\"\n",
    "                Answer the question based only on the following context:\n",
    "                {context}\n",
    "                Question: {question}\n",
    "                \"\"\"\n",
    "    \n",
    "    prompt = ChatPromptTemplate.from_template(template)\n",
    "\n",
    "    # RAG\n",
    "    chain = (\n",
    "        RunnableParallel(\n",
    "            {\"context\": lambda x: context, \"question\": RunnablePassthrough()})\n",
    "        | prompt\n",
    "        | model\n",
    "        | StrOutputParser()\n",
    "    )\n",
    "\n",
    "    response = chain.invoke(query)\n",
    "\n",
    "    return response"
   ]
  },
  {
   "cell_type": "code",
   "execution_count": null,
   "metadata": {},
   "outputs": [
    {
     "ename": "",
     "evalue": "",
     "output_type": "error",
     "traceback": [
      "\u001b[1;31mRunning cells with 'venv (Python 3.9.6)' requires the ipykernel package.\n",
      "\u001b[1;31mRun the following command to install 'ipykernel' into the Python environment. \n",
      "\u001b[1;31mCommand: '/Users/chenzhenxu/CodeProjects/CS217-final-project/venv/bin/python -m pip install ipykernel -U --force-reinstall'"
     ]
    }
   ],
   "source": [
    "query = \"what is release engineering?\"\n",
    "response = get_response(query, client, 5, advanced_index)\n",
    "print(response)"
   ]
  },
  {
   "cell_type": "markdown",
   "metadata": {},
   "source": [
    "### Create the Following Datasets\n",
    "\n",
    "Questions — synthetically generated (grogq-mixtral-8x7b-32768)\n",
    "\n",
    "Contexts — created above(Synthetic data chunks)\n",
    "\n",
    "Ground Truths — synthetically generated (grogq-mixtral-8x7b-32768)\n",
    "\n",
    "Answers — generated from our Semantic RAG Chain"
   ]
  },
  {
   "cell_type": "markdown",
   "metadata": {},
   "source": [
    "### Ragas Assessment for naive Chunker"
   ]
  },
  {
   "cell_type": "code",
   "execution_count": null,
   "metadata": {},
   "outputs": [
    {
     "ename": "",
     "evalue": "",
     "output_type": "error",
     "traceback": [
      "\u001b[1;31mRunning cells with 'venv (Python 3.9.6)' requires the ipykernel package.\n",
      "\u001b[1;31mRun the following command to install 'ipykernel' into the Python environment. \n",
      "\u001b[1;31mCommand: '/Users/chenzhenxu/CodeProjects/CS217-final-project/venv/bin/python -m pip install ipykernel -U --force-reinstall'"
     ]
    }
   ],
   "source": [
    "questions = []\n",
    "ground_truths_semantic = []\n",
    "contexts = []\n",
    "answers = []\n",
    "\n",
    "question_prompt = \"\"\"\\\n",
    "You are a teacher preparing a test. Please create a question that can be answered by referencing the following context.\n",
    "\n",
    "Context:\n",
    "{context}\n",
    "\"\"\"\n",
    "\n",
    "question_prompt = ChatPromptTemplate.from_template(question_prompt)\n",
    "\n",
    "ground_truth_prompt = \"\"\"\\\n",
    "Use the following context and question to answer this question using *only* the provided context.\n",
    "\n",
    "Question:\n",
    "{question}\n",
    "\n",
    "Context:\n",
    "{context}\n",
    "\"\"\"\n",
    "\n",
    "ground_truth_prompt = ChatPromptTemplate.from_template(ground_truth_prompt)\n",
    "\n",
    "question_chain = (question_prompt\n",
    "        | client\n",
    "        | StrOutputParser()\n",
    "    )\n",
    "ground_truth_chain = ground_truth_prompt | client | StrOutputParser()"
   ]
  },
  {
   "cell_type": "code",
   "execution_count": null,
   "metadata": {},
   "outputs": [
    {
     "ename": "",
     "evalue": "",
     "output_type": "error",
     "traceback": [
      "\u001b[1;31mRunning cells with 'venv (Python 3.9.6)' requires the ipykernel package.\n",
      "\u001b[1;31mRun the following command to install 'ipykernel' into the Python environment. \n",
      "\u001b[1;31mCommand: '/Users/chenzhenxu/CodeProjects/CS217-final-project/venv/bin/python -m pip install ipykernel -U --force-reinstall'"
     ]
    }
   ],
   "source": [
    "for chunk in naive_chunks[10:15]:\n",
    "  questions.append(question_chain.invoke({\"context\" : chunk}))\n",
    "  contexts.append([chunk])\n",
    "  ground_truths_semantic.append(ground_truth_chain.invoke({\"question\" : questions[-1], \"context\" : contexts[-1]}))\n",
    "  answers.append(get_response(questions[-1], client, 5, naive_index))"
   ]
  },
  {
   "cell_type": "markdown",
   "metadata": {},
   "source": [
    "### Format the content generated into HuggingFace Dataset Format"
   ]
  },
  {
   "cell_type": "code",
   "execution_count": null,
   "metadata": {},
   "outputs": [
    {
     "ename": "",
     "evalue": "",
     "output_type": "error",
     "traceback": [
      "\u001b[1;31mRunning cells with 'venv (Python 3.9.6)' requires the ipykernel package.\n",
      "\u001b[1;31mRun the following command to install 'ipykernel' into the Python environment. \n",
      "\u001b[1;31mCommand: '/Users/chenzhenxu/CodeProjects/CS217-final-project/venv/bin/python -m pip install ipykernel -U --force-reinstall'"
     ]
    }
   ],
   "source": [
    "from datasets import Dataset\n",
    "\n",
    "qagc_list = []\n",
    "\n",
    "for question, answer, context, ground_truth in zip(questions, answers, contexts, ground_truths_semantic):\n",
    "  qagc_list.append({\n",
    "      \"question\" : question,\n",
    "      \"answer\" : answer,\n",
    "      \"contexts\" : context,\n",
    "      \"ground_truth\" : ground_truth\n",
    "  })\n",
    "\n",
    "naive_eval_dataset = Dataset.from_list(qagc_list)\n",
    "naive_eval_dataset"
   ]
  },
  {
   "cell_type": "markdown",
   "metadata": {},
   "source": [
    "### Implement Ragas metrics and evaluate our created dataset."
   ]
  },
  {
   "cell_type": "code",
   "execution_count": null,
   "metadata": {},
   "outputs": [
    {
     "ename": "",
     "evalue": "",
     "output_type": "error",
     "traceback": [
      "\u001b[1;31mRunning cells with 'venv (Python 3.9.6)' requires the ipykernel package.\n",
      "\u001b[1;31mRun the following command to install 'ipykernel' into the Python environment. \n",
      "\u001b[1;31mCommand: '/Users/chenzhenxu/CodeProjects/CS217-final-project/venv/bin/python -m pip install ipykernel -U --force-reinstall'"
     ]
    }
   ],
   "source": [
    "co = cohere.Client(api_key=\"fAZMudlG7f2M0CtUYWrQikcrxzzRoPze5UbW81nA\")\n",
    "\n",
    "from ragas.metrics import (\n",
    "    answer_relevancy,\n",
    "    faithfulness,\n",
    "    context_recall,\n",
    "    context_precision,\n",
    ")\n",
    "\n",
    "#\n",
    "from ragas import evaluate\n",
    "\n",
    "naive_result = evaluate(\n",
    "    naive_eval_dataset,\n",
    "    metrics=[\n",
    "        context_precision,\n",
    "        faithfulness,\n",
    "        answer_relevancy,\n",
    "        context_recall,\n",
    "    ],\n",
    "     llm=client, \n",
    "    embeddings=co,\n",
    "    raise_exceptions=False\n",
    ")"
   ]
  },
  {
   "cell_type": "code",
   "execution_count": null,
   "metadata": {},
   "outputs": [
    {
     "ename": "",
     "evalue": "",
     "output_type": "error",
     "traceback": [
      "\u001b[1;31mRunning cells with 'venv (Python 3.9.6)' requires the ipykernel package.\n",
      "\u001b[1;31mRun the following command to install 'ipykernel' into the Python environment. \n",
      "\u001b[1;31mCommand: '/Users/chenzhenxu/CodeProjects/CS217-final-project/venv/bin/python -m pip install ipykernel -U --force-reinstall'"
     ]
    }
   ],
   "source": [
    "naive_results_df = naive_result.to_pandas()\n",
    "naive_results_df"
   ]
  },
  {
   "cell_type": "markdown",
   "metadata": {},
   "source": [
    "### Ragas Assessment Comparison for advanced Chunker"
   ]
  },
  {
   "cell_type": "code",
   "execution_count": null,
   "metadata": {},
   "outputs": [
    {
     "ename": "",
     "evalue": "",
     "output_type": "error",
     "traceback": [
      "\u001b[1;31mRunning cells with 'venv (Python 3.9.6)' requires the ipykernel package.\n",
      "\u001b[1;31mRun the following command to install 'ipykernel' into the Python environment. \n",
      "\u001b[1;31mCommand: '/Users/chenzhenxu/CodeProjects/CS217-final-project/venv/bin/python -m pip install ipykernel -U --force-reinstall'"
     ]
    }
   ],
   "source": [
    "import tqdm\n",
    "questions = []\n",
    "ground_truths_semantic = []\n",
    "contexts = []\n",
    "answers = []\n",
    "for chunk in tqdm.tqdm(advanced_chunks[10:15]):\n",
    "  questions.append(question_chain.invoke({\"context\" : chunk}))\n",
    "  contexts.append([chunk])\n",
    "  ground_truths_semantic.append(ground_truth_chain.invoke({\"question\" : questions[-1], \"context\" : contexts[-1]}))\n",
    "  answers.append(get_response(question[-1], client, 5, advanced_index))"
   ]
  },
  {
   "cell_type": "code",
   "execution_count": null,
   "metadata": {},
   "outputs": [
    {
     "ename": "",
     "evalue": "",
     "output_type": "error",
     "traceback": [
      "\u001b[1;31mRunning cells with 'venv (Python 3.9.6)' requires the ipykernel package.\n",
      "\u001b[1;31mRun the following command to install 'ipykernel' into the Python environment. \n",
      "\u001b[1;31mCommand: '/Users/chenzhenxu/CodeProjects/CS217-final-project/venv/bin/python -m pip install ipykernel -U --force-reinstall'"
     ]
    }
   ],
   "source": [
    "qagc_list = []\n",
    "\n",
    "for question, answer, context, ground_truth in zip(questions, answers, contexts, ground_truths_semantic):\n",
    "  qagc_list.append({\n",
    "      \"question\" : question,\n",
    "      \"answer\" : answer,\n",
    "      \"contexts\" : context,\n",
    "      \"ground_truth\" : ground_truth\n",
    "  })\n",
    "\n",
    "advanced_eval_dataset = Dataset.from_list(qagc_list)\n",
    "advanced_eval_dataset"
   ]
  },
  {
   "cell_type": "code",
   "execution_count": null,
   "metadata": {},
   "outputs": [
    {
     "ename": "",
     "evalue": "",
     "output_type": "error",
     "traceback": [
      "\u001b[1;31mRunning cells with 'venv (Python 3.9.6)' requires the ipykernel package.\n",
      "\u001b[1;31mRun the following command to install 'ipykernel' into the Python environment. \n",
      "\u001b[1;31mCommand: '/Users/chenzhenxu/CodeProjects/CS217-final-project/venv/bin/python -m pip install ipykernel -U --force-reinstall'"
     ]
    }
   ],
   "source": [
    "advanced_result = evaluate(\n",
    "    advanced_eval_dataset,\n",
    "    metrics=[\n",
    "        context_precision,\n",
    "        faithfulness,\n",
    "        answer_relevancy,\n",
    "        context_recall,\n",
    "    ],\n",
    "    llm=client, \n",
    "    embeddings=co,\n",
    "    raise_exceptions=False\n",
    ")"
   ]
  },
  {
   "cell_type": "code",
   "execution_count": null,
   "metadata": {},
   "outputs": [
    {
     "ename": "",
     "evalue": "",
     "output_type": "error",
     "traceback": [
      "\u001b[1;31mRunning cells with 'venv (Python 3.9.6)' requires the ipykernel package.\n",
      "\u001b[1;31mRun the following command to install 'ipykernel' into the Python environment. \n",
      "\u001b[1;31mCommand: '/Users/chenzhenxu/CodeProjects/CS217-final-project/venv/bin/python -m pip install ipykernel -U --force-reinstall'"
     ]
    }
   ],
   "source": [
    "advanced_results_df = advanced_result.to_pandas()\n",
    "advanced_results_df"
   ]
  }
 ],
 "metadata": {
  "kernelspec": {
   "display_name": "venv",
   "language": "python",
   "name": "python3"
  },
  "language_info": {
   "codemirror_mode": {
    "name": "ipython",
    "version": 3
   },
   "file_extension": ".py",
   "mimetype": "text/x-python",
   "name": "python",
   "nbconvert_exporter": "python",
   "pygments_lexer": "ipython3",
   "version": "3.9.6"
  }
 },
 "nbformat": 4,
 "nbformat_minor": 2
}
